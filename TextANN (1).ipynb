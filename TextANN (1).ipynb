{
  "nbformat": 4,
  "nbformat_minor": 0,
  "metadata": {
    "colab": {
      "name": "TextANN.ipynb",
      "provenance": [],
      "collapsed_sections": []
    },
    "kernelspec": {
      "name": "python3",
      "display_name": "Python 3"
    },
    "language_info": {
      "name": "python"
    }
  },
  "cells": [
    {
      "cell_type": "code",
      "execution_count": 1,
      "metadata": {
        "id": "UrCgBP4Gc5_g"
      },
      "outputs": [],
      "source": [
        "import numpy as np\n",
        "import pandas as pd\n",
        "import warnings\n",
        "warnings.filterwarnings(\"ignore\")"
      ]
    },
    {
      "cell_type": "code",
      "source": [
        "df = pd.read_table(\"moviereviews.tsv\")\n",
        "df.head()"
      ],
      "metadata": {
        "id": "J7WnKy5PfxS6",
        "colab": {
          "base_uri": "https://localhost:8080/",
          "height": 206
        },
        "outputId": "909c7014-7c29-4097-fbdb-a5cdcc9f864e"
      },
      "execution_count": 2,
      "outputs": [
        {
          "output_type": "execute_result",
          "data": {
            "text/plain": [
              "  label                                             review\n",
              "0   neg  how do films like mouse hunt get into theatres...\n",
              "1   neg  some talented actresses are blessed with a dem...\n",
              "2   pos  this has been an extraordinary year for austra...\n",
              "3   pos  according to hollywood movies made in last few...\n",
              "4   neg  my first press screening of 1998 and already i..."
            ],
            "text/html": [
              "\n",
              "  <div id=\"df-07b7790c-ad5b-44b3-88e9-0ecd7bc16760\">\n",
              "    <div class=\"colab-df-container\">\n",
              "      <div>\n",
              "<style scoped>\n",
              "    .dataframe tbody tr th:only-of-type {\n",
              "        vertical-align: middle;\n",
              "    }\n",
              "\n",
              "    .dataframe tbody tr th {\n",
              "        vertical-align: top;\n",
              "    }\n",
              "\n",
              "    .dataframe thead th {\n",
              "        text-align: right;\n",
              "    }\n",
              "</style>\n",
              "<table border=\"1\" class=\"dataframe\">\n",
              "  <thead>\n",
              "    <tr style=\"text-align: right;\">\n",
              "      <th></th>\n",
              "      <th>label</th>\n",
              "      <th>review</th>\n",
              "    </tr>\n",
              "  </thead>\n",
              "  <tbody>\n",
              "    <tr>\n",
              "      <th>0</th>\n",
              "      <td>neg</td>\n",
              "      <td>how do films like mouse hunt get into theatres...</td>\n",
              "    </tr>\n",
              "    <tr>\n",
              "      <th>1</th>\n",
              "      <td>neg</td>\n",
              "      <td>some talented actresses are blessed with a dem...</td>\n",
              "    </tr>\n",
              "    <tr>\n",
              "      <th>2</th>\n",
              "      <td>pos</td>\n",
              "      <td>this has been an extraordinary year for austra...</td>\n",
              "    </tr>\n",
              "    <tr>\n",
              "      <th>3</th>\n",
              "      <td>pos</td>\n",
              "      <td>according to hollywood movies made in last few...</td>\n",
              "    </tr>\n",
              "    <tr>\n",
              "      <th>4</th>\n",
              "      <td>neg</td>\n",
              "      <td>my first press screening of 1998 and already i...</td>\n",
              "    </tr>\n",
              "  </tbody>\n",
              "</table>\n",
              "</div>\n",
              "      <button class=\"colab-df-convert\" onclick=\"convertToInteractive('df-07b7790c-ad5b-44b3-88e9-0ecd7bc16760')\"\n",
              "              title=\"Convert this dataframe to an interactive table.\"\n",
              "              style=\"display:none;\">\n",
              "        \n",
              "  <svg xmlns=\"http://www.w3.org/2000/svg\" height=\"24px\"viewBox=\"0 0 24 24\"\n",
              "       width=\"24px\">\n",
              "    <path d=\"M0 0h24v24H0V0z\" fill=\"none\"/>\n",
              "    <path d=\"M18.56 5.44l.94 2.06.94-2.06 2.06-.94-2.06-.94-.94-2.06-.94 2.06-2.06.94zm-11 1L8.5 8.5l.94-2.06 2.06-.94-2.06-.94L8.5 2.5l-.94 2.06-2.06.94zm10 10l.94 2.06.94-2.06 2.06-.94-2.06-.94-.94-2.06-.94 2.06-2.06.94z\"/><path d=\"M17.41 7.96l-1.37-1.37c-.4-.4-.92-.59-1.43-.59-.52 0-1.04.2-1.43.59L10.3 9.45l-7.72 7.72c-.78.78-.78 2.05 0 2.83L4 21.41c.39.39.9.59 1.41.59.51 0 1.02-.2 1.41-.59l7.78-7.78 2.81-2.81c.8-.78.8-2.07 0-2.86zM5.41 20L4 18.59l7.72-7.72 1.47 1.35L5.41 20z\"/>\n",
              "  </svg>\n",
              "      </button>\n",
              "      \n",
              "  <style>\n",
              "    .colab-df-container {\n",
              "      display:flex;\n",
              "      flex-wrap:wrap;\n",
              "      gap: 12px;\n",
              "    }\n",
              "\n",
              "    .colab-df-convert {\n",
              "      background-color: #E8F0FE;\n",
              "      border: none;\n",
              "      border-radius: 50%;\n",
              "      cursor: pointer;\n",
              "      display: none;\n",
              "      fill: #1967D2;\n",
              "      height: 32px;\n",
              "      padding: 0 0 0 0;\n",
              "      width: 32px;\n",
              "    }\n",
              "\n",
              "    .colab-df-convert:hover {\n",
              "      background-color: #E2EBFA;\n",
              "      box-shadow: 0px 1px 2px rgba(60, 64, 67, 0.3), 0px 1px 3px 1px rgba(60, 64, 67, 0.15);\n",
              "      fill: #174EA6;\n",
              "    }\n",
              "\n",
              "    [theme=dark] .colab-df-convert {\n",
              "      background-color: #3B4455;\n",
              "      fill: #D2E3FC;\n",
              "    }\n",
              "\n",
              "    [theme=dark] .colab-df-convert:hover {\n",
              "      background-color: #434B5C;\n",
              "      box-shadow: 0px 1px 3px 1px rgba(0, 0, 0, 0.15);\n",
              "      filter: drop-shadow(0px 1px 2px rgba(0, 0, 0, 0.3));\n",
              "      fill: #FFFFFF;\n",
              "    }\n",
              "  </style>\n",
              "\n",
              "      <script>\n",
              "        const buttonEl =\n",
              "          document.querySelector('#df-07b7790c-ad5b-44b3-88e9-0ecd7bc16760 button.colab-df-convert');\n",
              "        buttonEl.style.display =\n",
              "          google.colab.kernel.accessAllowed ? 'block' : 'none';\n",
              "\n",
              "        async function convertToInteractive(key) {\n",
              "          const element = document.querySelector('#df-07b7790c-ad5b-44b3-88e9-0ecd7bc16760');\n",
              "          const dataTable =\n",
              "            await google.colab.kernel.invokeFunction('convertToInteractive',\n",
              "                                                     [key], {});\n",
              "          if (!dataTable) return;\n",
              "\n",
              "          const docLinkHtml = 'Like what you see? Visit the ' +\n",
              "            '<a target=\"_blank\" href=https://colab.research.google.com/notebooks/data_table.ipynb>data table notebook</a>'\n",
              "            + ' to learn more about interactive tables.';\n",
              "          element.innerHTML = '';\n",
              "          dataTable['output_type'] = 'display_data';\n",
              "          await google.colab.output.renderOutput(dataTable, element);\n",
              "          const docLink = document.createElement('div');\n",
              "          docLink.innerHTML = docLinkHtml;\n",
              "          element.appendChild(docLink);\n",
              "        }\n",
              "      </script>\n",
              "    </div>\n",
              "  </div>\n",
              "  "
            ]
          },
          "metadata": {},
          "execution_count": 2
        }
      ]
    },
    {
      "cell_type": "code",
      "source": [
        "df.info()"
      ],
      "metadata": {
        "id": "k0YhJ14xf8W8",
        "colab": {
          "base_uri": "https://localhost:8080/"
        },
        "outputId": "7967b919-1ca4-4b44-f4ee-d57185e9c9d1"
      },
      "execution_count": 3,
      "outputs": [
        {
          "output_type": "stream",
          "name": "stdout",
          "text": [
            "<class 'pandas.core.frame.DataFrame'>\n",
            "RangeIndex: 2000 entries, 0 to 1999\n",
            "Data columns (total 2 columns):\n",
            " #   Column  Non-Null Count  Dtype \n",
            "---  ------  --------------  ----- \n",
            " 0   label   2000 non-null   object\n",
            " 1   review  1965 non-null   object\n",
            "dtypes: object(2)\n",
            "memory usage: 31.4+ KB\n"
          ]
        }
      ]
    },
    {
      "cell_type": "code",
      "source": [
        "df.isna().sum()"
      ],
      "metadata": {
        "id": "KaYJhb0mgAGY",
        "colab": {
          "base_uri": "https://localhost:8080/"
        },
        "outputId": "102f50c3-2a8b-4c5c-ab39-dd7228ea2d62"
      },
      "execution_count": 4,
      "outputs": [
        {
          "output_type": "execute_result",
          "data": {
            "text/plain": [
              "label      0\n",
              "review    35\n",
              "dtype: int64"
            ]
          },
          "metadata": {},
          "execution_count": 4
        }
      ]
    },
    {
      "cell_type": "code",
      "source": [
        "df.dropna(inplace=True)"
      ],
      "metadata": {
        "id": "Og3dgzaRgJTz"
      },
      "execution_count": 5,
      "outputs": []
    },
    {
      "cell_type": "code",
      "source": [
        "df.isna().sum()"
      ],
      "metadata": {
        "id": "sM50RxZjgPWp",
        "colab": {
          "base_uri": "https://localhost:8080/"
        },
        "outputId": "e7d62f0e-03c1-4eb8-e3fa-d03486faf4ae"
      },
      "execution_count": 6,
      "outputs": [
        {
          "output_type": "execute_result",
          "data": {
            "text/plain": [
              "label     0\n",
              "review    0\n",
              "dtype: int64"
            ]
          },
          "metadata": {},
          "execution_count": 6
        }
      ]
    },
    {
      "cell_type": "code",
      "source": [
        "blanks= []\n",
        "for i, lb, rv in df.itertuples():\n",
        "  if(type(rv)==str):\n",
        "    if(rv.isspace()):\n",
        "      blanks.append(i)\n",
        "print(blanks)"
      ],
      "metadata": {
        "id": "QSFVttZDgRQ0",
        "colab": {
          "base_uri": "https://localhost:8080/"
        },
        "outputId": "d5fff8c2-43e5-4f27-ea69-a04e8fdcdf9b"
      },
      "execution_count": 7,
      "outputs": [
        {
          "output_type": "stream",
          "name": "stdout",
          "text": [
            "[57, 71, 147, 151, 283, 307, 313, 323, 343, 351, 427, 501, 633, 675, 815, 851, 977, 1079, 1299, 1455, 1493, 1525, 1531, 1763, 1851, 1905, 1993]\n"
          ]
        }
      ]
    },
    {
      "cell_type": "code",
      "source": [
        "df.drop(blanks, inplace=True)"
      ],
      "metadata": {
        "id": "x_ujLdXsgpqI"
      },
      "execution_count": 8,
      "outputs": []
    },
    {
      "cell_type": "code",
      "source": [
        "x=df[\"review\"]\n",
        "y=df[\"label\"]"
      ],
      "metadata": {
        "id": "8_Rl9BzqgxOb"
      },
      "execution_count": 9,
      "outputs": []
    },
    {
      "cell_type": "code",
      "source": [
        "from sklearn.model_selection import train_test_split\n",
        "xtrain, xtest, ytrain, ytest = train_test_split(x,y, test_size=0.3, random_state=1)"
      ],
      "metadata": {
        "id": "IGMuI7Axg1Yl"
      },
      "execution_count": 10,
      "outputs": []
    },
    {
      "cell_type": "code",
      "source": [
        "from sklearn.pipeline import Pipeline\n",
        "from sklearn.feature_extraction.text import CountVectorizer\n",
        "from sklearn.ensemble import RandomForestClassifier\n",
        "from sklearn.svm import LinearSVC"
      ],
      "metadata": {
        "id": "gmZAnm32hDna"
      },
      "execution_count": 11,
      "outputs": []
    },
    {
      "cell_type": "code",
      "source": [
        "pipe =Pipeline(\n",
        "    [\n",
        "     (\"CountVectorizer\", CountVectorizer()),\n",
        "     (\"ensemble\", RandomForestClassifier())\n",
        "     \n",
        "    ]\n",
        ")"
      ],
      "metadata": {
        "id": "VhhstDF6hXLs"
      },
      "execution_count": 12,
      "outputs": []
    },
    {
      "cell_type": "code",
      "source": [
        "pipe.fit(xtrain, ytrain)\n",
        "ypred = pipe.predict(xtest)"
      ],
      "metadata": {
        "id": "_OLddrBCh_76"
      },
      "execution_count": 13,
      "outputs": []
    },
    {
      "cell_type": "code",
      "source": [
        "from sklearn.metrics import classification_report\n",
        "print(classification_report(ytest, ypred))"
      ],
      "metadata": {
        "id": "85G3adRXiPLf",
        "colab": {
          "base_uri": "https://localhost:8080/"
        },
        "outputId": "43dab95a-fc2c-4fd1-e2a5-b88bf77a64bc"
      },
      "execution_count": 14,
      "outputs": [
        {
          "output_type": "stream",
          "name": "stdout",
          "text": [
            "              precision    recall  f1-score   support\n",
            "\n",
            "         neg       0.77      0.84      0.81       293\n",
            "         pos       0.82      0.75      0.78       289\n",
            "\n",
            "    accuracy                           0.80       582\n",
            "   macro avg       0.80      0.80      0.80       582\n",
            "weighted avg       0.80      0.80      0.80       582\n",
            "\n"
          ]
        }
      ]
    },
    {
      "cell_type": "code",
      "source": [
        "pipe =Pipeline(\n",
        "    [\n",
        "     (\"CountVectorizer\", CountVectorizer()),\n",
        "     (\"svm\", LinearSVC())\n",
        "     \n",
        "    ]\n",
        ")"
      ],
      "metadata": {
        "id": "0ocwFICbiXpw"
      },
      "execution_count": 15,
      "outputs": []
    },
    {
      "cell_type": "code",
      "source": [
        "pipe.fit(xtrain, ytrain)\n",
        "ypred = pipe.predict(xtest)\n",
        "print(classification_report(ytest, ypred))"
      ],
      "metadata": {
        "id": "rOvWtPNgih9a",
        "colab": {
          "base_uri": "https://localhost:8080/"
        },
        "outputId": "7e557133-1555-494c-fd31-9917ffc18849"
      },
      "execution_count": 16,
      "outputs": [
        {
          "output_type": "stream",
          "name": "stdout",
          "text": [
            "              precision    recall  f1-score   support\n",
            "\n",
            "         neg       0.79      0.85      0.82       293\n",
            "         pos       0.84      0.78      0.80       289\n",
            "\n",
            "    accuracy                           0.81       582\n",
            "   macro avg       0.81      0.81      0.81       582\n",
            "weighted avg       0.81      0.81      0.81       582\n",
            "\n"
          ]
        }
      ]
    },
    {
      "cell_type": "markdown",
      "source": [
        "## **Text Classification with ANN**"
      ],
      "metadata": {
        "id": "b12tDsSunSW7"
      }
    },
    {
      "cell_type": "code",
      "source": [
        "x"
      ],
      "metadata": {
        "id": "xyK0UWn2inxj",
        "colab": {
          "base_uri": "https://localhost:8080/"
        },
        "outputId": "38010384-8e9d-4537-89b4-dbb1bdb23694"
      },
      "execution_count": 17,
      "outputs": [
        {
          "output_type": "execute_result",
          "data": {
            "text/plain": [
              "0       how do films like mouse hunt get into theatres...\n",
              "1       some talented actresses are blessed with a dem...\n",
              "2       this has been an extraordinary year for austra...\n",
              "3       according to hollywood movies made in last few...\n",
              "4       my first press screening of 1998 and already i...\n",
              "                              ...                        \n",
              "1995    i like movies with albert brooks , and i reall...\n",
              "1996    it might surprise some to know that joel and e...\n",
              "1997    the verdict : spine-chilling drama from horror...\n",
              "1998    i want to correct what i wrote in a former ret...\n",
              "1999    a couple of months ago , when i first download...\n",
              "Name: review, Length: 1938, dtype: object"
            ]
          },
          "metadata": {},
          "execution_count": 17
        }
      ]
    },
    {
      "cell_type": "code",
      "source": [
        "y"
      ],
      "metadata": {
        "id": "1GZeTDkpnfff",
        "colab": {
          "base_uri": "https://localhost:8080/"
        },
        "outputId": "5df42e4d-6f02-4a90-be7b-604082c214a1"
      },
      "execution_count": 18,
      "outputs": [
        {
          "output_type": "execute_result",
          "data": {
            "text/plain": [
              "0       neg\n",
              "1       neg\n",
              "2       pos\n",
              "3       pos\n",
              "4       neg\n",
              "       ... \n",
              "1995    pos\n",
              "1996    pos\n",
              "1997    pos\n",
              "1998    pos\n",
              "1999    pos\n",
              "Name: label, Length: 1938, dtype: object"
            ]
          },
          "metadata": {},
          "execution_count": 18
        }
      ]
    },
    {
      "cell_type": "code",
      "source": [
        "y.replace({\"neg\":0, \"pos\":1}, inplace=True)"
      ],
      "metadata": {
        "id": "bNTT8jh5ngxD"
      },
      "execution_count": 19,
      "outputs": []
    },
    {
      "cell_type": "code",
      "source": [
        "y"
      ],
      "metadata": {
        "id": "Cb6T0bryn6cb",
        "colab": {
          "base_uri": "https://localhost:8080/"
        },
        "outputId": "89397eb7-05bb-4f5c-9af9-ac77f5693a30"
      },
      "execution_count": 20,
      "outputs": [
        {
          "output_type": "execute_result",
          "data": {
            "text/plain": [
              "0       0\n",
              "1       0\n",
              "2       1\n",
              "3       1\n",
              "4       0\n",
              "       ..\n",
              "1995    1\n",
              "1996    1\n",
              "1997    1\n",
              "1998    1\n",
              "1999    1\n",
              "Name: label, Length: 1938, dtype: int64"
            ]
          },
          "metadata": {},
          "execution_count": 20
        }
      ]
    },
    {
      "cell_type": "code",
      "source": [
        "from sklearn.model_selection import train_test_split\n",
        "xtrain, xtest, ytrain, ytest = train_test_split(x,y, test_size=0.3, random_state=1)"
      ],
      "metadata": {
        "id": "TXvObkG0n7Kl"
      },
      "execution_count": 21,
      "outputs": []
    },
    {
      "cell_type": "code",
      "source": [
        "from sklearn.feature_extraction.text import CountVectorizer\n",
        "cv = CountVectorizer()\n",
        "xtrain = cv.fit_transform(xtrain).toarray()\n",
        "xtest = cv.transform(xtest).toarray()"
      ],
      "metadata": {
        "id": "seqQFP2ToGnq"
      },
      "execution_count": 22,
      "outputs": []
    },
    {
      "cell_type": "code",
      "source": [
        "xtrain"
      ],
      "metadata": {
        "id": "ENn6iC9joUNo",
        "colab": {
          "base_uri": "https://localhost:8080/"
        },
        "outputId": "fdb7edc9-ec83-4d66-c1e5-6824a5984634"
      },
      "execution_count": 23,
      "outputs": [
        {
          "output_type": "execute_result",
          "data": {
            "text/plain": [
              "array([[0, 0, 0, ..., 0, 0, 0],\n",
              "       [0, 0, 0, ..., 0, 0, 0],\n",
              "       [0, 0, 0, ..., 0, 0, 0],\n",
              "       ...,\n",
              "       [0, 0, 0, ..., 0, 0, 0],\n",
              "       [0, 0, 0, ..., 0, 0, 0],\n",
              "       [0, 0, 0, ..., 0, 0, 0]])"
            ]
          },
          "metadata": {},
          "execution_count": 23
        }
      ]
    },
    {
      "cell_type": "code",
      "source": [
        "import tensorflow as tf\n",
        "from tensorflow.keras.models import Sequential \n",
        "from tensorflow.keras.layers import Dense"
      ],
      "metadata": {
        "id": "ewcuz_HJpBsC"
      },
      "execution_count": 24,
      "outputs": []
    },
    {
      "cell_type": "code",
      "source": [
        "#step1 -: initalize the ann model\n",
        "ann = Sequential()\n",
        "\n",
        "#step2 -: add the hidden layers\n",
        "ann.add(Dense(units=10, activation=\"relu\"))\n",
        "ann.add(Dense(units=6, activation=\"relu\"))\n",
        "ann.add(Dense(units=3, activation=\"relu\"))\n",
        "ann.add(Dense(units=1, activation=\"sigmoid\"))\n",
        "\n",
        "#step3 -: establish the connection between the layers\n",
        "ann.compile(optimizer=\"adam\", loss=\"binary_crossentropy\", metrics=[\"accuracy\"])\n",
        "\n",
        "#step4 -: train the model\n",
        "ann.fit(xtrain, ytrain, batch_size=50, epochs=30)\n",
        "\n",
        "#step5 -: make prediction\n",
        "ypred = ann.predict(xtest)"
      ],
      "metadata": {
        "id": "qaHCHgAHoaPI",
        "colab": {
          "base_uri": "https://localhost:8080/"
        },
        "outputId": "db76a44e-0f0c-45c6-91fc-cf1bee001f9b"
      },
      "execution_count": 25,
      "outputs": [
        {
          "output_type": "stream",
          "name": "stdout",
          "text": [
            "Epoch 1/30\n",
            "28/28 [==============================] - 1s 17ms/step - loss: 0.6932 - accuracy: 0.4978\n",
            "Epoch 2/30\n",
            "28/28 [==============================] - 0s 17ms/step - loss: 0.6932 - accuracy: 0.5015\n",
            "Epoch 3/30\n",
            "28/28 [==============================] - 0s 16ms/step - loss: 0.6932 - accuracy: 0.5015\n",
            "Epoch 4/30\n",
            "28/28 [==============================] - 1s 18ms/step - loss: 0.6932 - accuracy: 0.5015\n",
            "Epoch 5/30\n",
            "28/28 [==============================] - 0s 17ms/step - loss: 0.6932 - accuracy: 0.5015\n",
            "Epoch 6/30\n",
            "28/28 [==============================] - 0s 17ms/step - loss: 0.6931 - accuracy: 0.5015\n",
            "Epoch 7/30\n",
            "28/28 [==============================] - 0s 17ms/step - loss: 0.6932 - accuracy: 0.5015\n",
            "Epoch 8/30\n",
            "28/28 [==============================] - 0s 17ms/step - loss: 0.6932 - accuracy: 0.5015\n",
            "Epoch 9/30\n",
            "28/28 [==============================] - 0s 17ms/step - loss: 0.6932 - accuracy: 0.5015\n",
            "Epoch 10/30\n",
            "28/28 [==============================] - 0s 17ms/step - loss: 0.6932 - accuracy: 0.5015\n",
            "Epoch 11/30\n",
            "28/28 [==============================] - 0s 16ms/step - loss: 0.6932 - accuracy: 0.5015\n",
            "Epoch 12/30\n",
            "28/28 [==============================] - 0s 18ms/step - loss: 0.6932 - accuracy: 0.5015\n",
            "Epoch 13/30\n",
            "28/28 [==============================] - 0s 17ms/step - loss: 0.6932 - accuracy: 0.5015\n",
            "Epoch 14/30\n",
            "28/28 [==============================] - 0s 17ms/step - loss: 0.6931 - accuracy: 0.5015\n",
            "Epoch 15/30\n",
            "28/28 [==============================] - 0s 16ms/step - loss: 0.6932 - accuracy: 0.5015\n",
            "Epoch 16/30\n",
            "28/28 [==============================] - 0s 18ms/step - loss: 0.6931 - accuracy: 0.5015\n",
            "Epoch 17/30\n",
            "28/28 [==============================] - 0s 17ms/step - loss: 0.6932 - accuracy: 0.5015\n",
            "Epoch 18/30\n",
            "28/28 [==============================] - 0s 17ms/step - loss: 0.6932 - accuracy: 0.5015\n",
            "Epoch 19/30\n",
            "28/28 [==============================] - 0s 17ms/step - loss: 0.6932 - accuracy: 0.5015\n",
            "Epoch 20/30\n",
            "28/28 [==============================] - 0s 17ms/step - loss: 0.6932 - accuracy: 0.5015\n",
            "Epoch 21/30\n",
            "28/28 [==============================] - 0s 17ms/step - loss: 0.6932 - accuracy: 0.5015\n",
            "Epoch 22/30\n",
            "28/28 [==============================] - 0s 16ms/step - loss: 0.6931 - accuracy: 0.5015\n",
            "Epoch 23/30\n",
            "28/28 [==============================] - 0s 17ms/step - loss: 0.6932 - accuracy: 0.5015\n",
            "Epoch 24/30\n",
            "28/28 [==============================] - 0s 16ms/step - loss: 0.6931 - accuracy: 0.5015\n",
            "Epoch 25/30\n",
            "28/28 [==============================] - 0s 18ms/step - loss: 0.6932 - accuracy: 0.5015\n",
            "Epoch 26/30\n",
            "28/28 [==============================] - 0s 17ms/step - loss: 0.6932 - accuracy: 0.5015\n",
            "Epoch 27/30\n",
            "28/28 [==============================] - 0s 17ms/step - loss: 0.6932 - accuracy: 0.5015\n",
            "Epoch 28/30\n",
            "28/28 [==============================] - 0s 16ms/step - loss: 0.6932 - accuracy: 0.5015\n",
            "Epoch 29/30\n",
            "28/28 [==============================] - 0s 17ms/step - loss: 0.6932 - accuracy: 0.5015\n",
            "Epoch 30/30\n",
            "28/28 [==============================] - 0s 17ms/step - loss: 0.6931 - accuracy: 0.5015\n"
          ]
        }
      ]
    },
    {
      "cell_type": "code",
      "source": [
        "#step6 -: set the threshold\n",
        "ypred = ypred>0.5\n",
        "\n",
        "#step7 -: evaluation matix\n",
        "from sklearn.metrics import classification_report\n",
        "print(classification_report(ytest, ypred))"
      ],
      "metadata": {
        "id": "sS7w53Exo1MP",
        "colab": {
          "base_uri": "https://localhost:8080/"
        },
        "outputId": "6b233978-166d-4886-a0e6-6ed7eaa8c655"
      },
      "execution_count": 27,
      "outputs": [
        {
          "output_type": "stream",
          "name": "stdout",
          "text": [
            "              precision    recall  f1-score   support\n",
            "\n",
            "           0       0.00      0.00      0.00       293\n",
            "           1       0.50      1.00      0.66       289\n",
            "\n",
            "    accuracy                           0.50       582\n",
            "   macro avg       0.25      0.50      0.33       582\n",
            "weighted avg       0.25      0.50      0.33       582\n",
            "\n"
          ]
        }
      ]
    },
    {
      "cell_type": "code",
      "source": [
        ""
      ],
      "metadata": {
        "id": "4J6sekBDOElq"
      },
      "execution_count": null,
      "outputs": []
    }
  ]
}